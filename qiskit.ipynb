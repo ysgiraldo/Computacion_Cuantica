{
 "cells": [
  {
   "cell_type": "code",
   "execution_count": 1,
   "metadata": {},
   "outputs": [
    {
     "name": "stdout",
     "output_type": "stream",
     "text": [
      "Estimated value:\t2.4600\n",
      "Probability:    \t0.8487\n"
     ]
    }
   ],
   "source": [
    "import numpy as np\n",
    "from qiskit.primitives import Sampler\n",
    "from qiskit_algorithms import AmplitudeEstimation\n",
    "from qiskit_finance.circuit.library import NormalDistribution\n",
    "from qiskit_finance.applications import FixedIncomePricing\n",
    "\n",
    "# Create a suitable multivariate distribution\n",
    "num_qubits = [2, 2]\n",
    "bounds = [(0, 0.12), (0, 0.24)]\n",
    "mvnd = NormalDistribution(\n",
    "    num_qubits, mu=[0.12, 0.24], sigma=0.01 * np.eye(2), bounds=bounds\n",
    ")\n",
    "\n",
    "# Create fixed income component\n",
    "fixed_income = FixedIncomePricing(\n",
    "    num_qubits,\n",
    "    np.eye(2),\n",
    "    np.zeros(2),\n",
    "    cash_flow=[1.0, 2.0],\n",
    "    rescaling_factor=0.125,\n",
    "    bounds=bounds,\n",
    "    uncertainty_model=mvnd,\n",
    ")\n",
    "\n",
    "# the FixedIncomeExpectedValue provides us with the necessary rescalings\n",
    "\n",
    "# create the A operator for amplitude estimation\n",
    "problem = fixed_income.to_estimation_problem()\n",
    "\n",
    "# Set number of evaluation qubits (samples)\n",
    "num_eval_qubits = 5\n",
    "\n",
    "# Construct and run amplitude estimation\n",
    "sampler = Sampler()\n",
    "algo = AmplitudeEstimation(num_eval_qubits=num_eval_qubits, sampler=sampler)\n",
    "result = algo.estimate(problem)\n",
    "\n",
    "print(f\"Estimated value:\\t{fixed_income.interpret(result):.4f}\")\n",
    "print(f\"Probability:    \\t{result.max_probability:.4f}\")"
   ]
  }
 ],
 "metadata": {
  "kernelspec": {
   "display_name": "Python 3",
   "language": "python",
   "name": "python3"
  },
  "language_info": {
   "codemirror_mode": {
    "name": "ipython",
    "version": 3
   },
   "file_extension": ".py",
   "mimetype": "text/x-python",
   "name": "python",
   "nbconvert_exporter": "python",
   "pygments_lexer": "ipython3",
   "version": "3.9.13"
  }
 },
 "nbformat": 4,
 "nbformat_minor": 2
}
